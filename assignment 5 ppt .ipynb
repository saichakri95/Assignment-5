{
 "cells": [
  {
   "cell_type": "code",
   "execution_count": 4,
   "id": "ee345165-f7fd-4ce5-8d9b-2a4f5cb0a0cf",
   "metadata": {},
   "outputs": [
    {
     "name": "stdout",
     "output_type": "stream",
     "text": [
      "[[1, 2], [3, 4]]\n"
     ]
    }
   ],
   "source": [
    "#question 1 solution\n",
    "class Solution:\n",
    "    def Arrayoutput(self, original: list[int], m: int, n: int) -> list[list[int]]:\n",
    "        result=[]\n",
    "        if m*n==len(original):\n",
    "            for i in range(0,m*n,n):\n",
    "                result.append(original[i:i+n])\n",
    "        return result\n",
    "s=Solution()\n",
    "original = [1,2,3,4]\n",
    "m = 2\n",
    "n = 2\n",
    "output=s.Arrayoutput(original,m,n)\n",
    "print(output)"
   ]
  },
  {
   "cell_type": "code",
   "execution_count": 5,
   "id": "7cde4894-3943-426d-93f4-1ff98a89b4ba",
   "metadata": {},
   "outputs": [
    {
     "name": "stdout",
     "output_type": "stream",
     "text": [
      "2\n"
     ]
    }
   ],
   "source": [
    "#question 2 solution\n",
    "class Solution:\n",
    "    def arrangeCoins(self, n: int) -> int:\n",
    "        left, right = 1, n\n",
    "        while left <= right:\n",
    "            mid = left + (right - left) // 2\n",
    "            coins = (mid * (mid + 1)) // 2\n",
    "            if coins <= n:\n",
    "                left = mid + 1\n",
    "            else:\n",
    "                right = mid - 1\n",
    "        return right\n",
    "s=Solution()        \n",
    "n = 5\n",
    "output=s.arrangeCoins(n)\n",
    "print(output)"
   ]
  },
  {
   "cell_type": "code",
   "execution_count": 6,
   "id": "6eecc95b-be72-4251-8045-317eaf10d0b3",
   "metadata": {},
   "outputs": [
    {
     "name": "stdout",
     "output_type": "stream",
     "text": [
      "[0, 1, 9, 16, 100]\n"
     ]
    }
   ],
   "source": [
    "#question 3 solution\n",
    "class Solution:\n",
    "    def sortedSquares(self, nums: list[int]) -> list[int]:\n",
    "        new = [x**2 for x in nums]\n",
    "        new.sort()\n",
    "        return new\n",
    "s=Solution()        \n",
    "nums = [-4,-1,0,3,10]\n",
    "output=s.sortedSquares(nums)\n",
    "print(output)"
   ]
  },
  {
   "cell_type": "code",
   "execution_count": 7,
   "id": "938860fd-ffd4-4718-accc-6169c886ea04",
   "metadata": {},
   "outputs": [
    {
     "name": "stdout",
     "output_type": "stream",
     "text": [
      "[[1, 3], [4, 6]]\n"
     ]
    }
   ],
   "source": [
    "#question 4 solution\n",
    "class Solution:\n",
    "    def findDifference(self, nums1: list[int], nums2: list[int]) -> list[list[int]]:\n",
    "        n1=set(nums1)\n",
    "        n2=set(nums2)\n",
    "        r1=list(set(x for x in nums1 if x not in n2))\n",
    "        r2=list(set(x for x in nums2 if x not in n1))\n",
    "        return [r1,r2]\n",
    "        \n",
    "s=Solution()\n",
    "nums1 = [1,2,3]\n",
    "nums2 = [2,4,6]\n",
    "output=s.findDifference(nums1,nums2)\n",
    "print(output)"
   ]
  },
  {
   "cell_type": "code",
   "execution_count": 9,
   "id": "1b22b341-82af-486a-8c4b-81d927ec5117",
   "metadata": {},
   "outputs": [
    {
     "name": "stdout",
     "output_type": "stream",
     "text": [
      "[2, 3]\n"
     ]
    }
   ],
   "source": [
    "#question 6 answer\n",
    "class Solution:\n",
    "    def findDuplicates(self, nums: list[int]) -> list[int]:\n",
    "        nums_set = set()\n",
    "        out = []\n",
    "        for num in nums:\n",
    "            if num not in nums_set:\n",
    "                nums_set.add(num)\n",
    "            else:\n",
    "                out.append(num)\n",
    "                nums_set.add(num)\n",
    "        return out\n",
    "s=Solution()        \n",
    "nums = [4,3,2,7,8,2,3,1]\n",
    "output=s.findDuplicates(nums)\n",
    "print(output)"
   ]
  },
  {
   "cell_type": "code",
   "execution_count": null,
   "id": "a6cbd3bb-4b2a-4af6-becd-e5a2f4ad2fca",
   "metadata": {},
   "outputs": [],
   "source": []
  }
 ],
 "metadata": {
  "kernelspec": {
   "display_name": "Python 3 (ipykernel)",
   "language": "python",
   "name": "python3"
  },
  "language_info": {
   "codemirror_mode": {
    "name": "ipython",
    "version": 3
   },
   "file_extension": ".py",
   "mimetype": "text/x-python",
   "name": "python",
   "nbconvert_exporter": "python",
   "pygments_lexer": "ipython3",
   "version": "3.10.6"
  }
 },
 "nbformat": 4,
 "nbformat_minor": 5
}
